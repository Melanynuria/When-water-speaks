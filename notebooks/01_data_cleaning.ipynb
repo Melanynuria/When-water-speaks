{
 "cells": [
  {
   "cell_type": "code",
   "execution_count": 44,
   "id": "8d50a74c",
   "metadata": {},
   "outputs": [],
   "source": [
    "import sys\n",
    "import os\n",
    "import pandas as pd\n",
    "# Add project root to path to allow imports from src\n",
    "module_path = os.path.abspath(os.path.join('..'))\n",
    "if module_path not in sys.path:\n",
    "    sys.path.append(module_path)\n",
    "    \n",
    "from src.data_preprocessing import load_parquet_to_df"
   ]
  },
  {
   "cell_type": "markdown",
   "id": "e04385ed",
   "metadata": {},
   "source": [
    "## Obtaining the Dataframes ##"
   ]
  },
  {
   "cell_type": "markdown",
   "id": "8c5d5ac8",
   "metadata": {},
   "source": [
    "The dataframes used are: \n",
    "- Consum Total Agregat (CTA)\n",
    "- Detecció de Consums Anòmals (DCA)"
   ]
  },
  {
   "cell_type": "code",
   "execution_count": 45,
   "id": "5862d19b",
   "metadata": {},
   "outputs": [
    {
     "name": "stdout",
     "output_type": "stream",
     "text": [
      "['secció censal', 'districte', 'municipi', 'data', 'ús', 'nombre de comptadors', 'consum acumulat (l']\n",
      "['poliza_suministro', 'numeroseriecontador', 'consumo_real', 'fecha_hora', 'codi_anomalia', 'data_inici', 'data_fi']\n"
     ]
    }
   ],
   "source": [
    "# Define the path to your raw data file\n",
    "fp_CTA = '..\\data\\Mostra Set de dades 1_ Consum total agregat.parquet'\n",
    "df_CTA = load_parquet_to_df(fp_CTA)\n",
    "\n",
    "fp_DCA = '..\\data\\Mostra Set de dades 2_Detecció de consums anòmals.parquet'\n",
    "df_DCA = load_parquet_to_df(fp_DCA)"
   ]
  },
  {
   "cell_type": "markdown",
   "id": "f22961d9",
   "metadata": {},
   "source": [
    "### Cleaninf df"
   ]
  },
  {
   "cell_type": "code",
   "execution_count": null,
   "id": "de8f242f",
   "metadata": {},
   "outputs": [
    {
     "name": "stdout",
     "output_type": "stream",
     "text": [
      "<class 'pandas.core.frame.DataFrame'>\n",
      "Index: 961229 entries, 0 to 961228\n",
      "Data columns (total 7 columns):\n",
      " #   Column                Non-Null Count   Dtype \n",
      "---  ------                --------------   ----- \n",
      " 0   secció censal         961229 non-null  object\n",
      " 1   districte             961229 non-null  object\n",
      " 2   municipi              961229 non-null  object\n",
      " 3   data                  961229 non-null  object\n",
      " 4   ús                    961229 non-null  object\n",
      " 5   nombre de comptadors  961229 non-null  int64 \n",
      " 6   consum acumulat (l    961229 non-null  int64 \n",
      "dtypes: int64(2), object(5)\n",
      "memory usage: 58.7+ MB\n"
     ]
    }
   ],
   "source": [
    "#Detecció de consums anòmals dataframe cleaned \n",
    "df_DCA.fillna(0.0, inplace=True)\n",
    "\n",
    "#Consum Total Agregat cleaning\n",
    "df_CTA.dropna()     #As they indicate the secció censal and the districte, without them we cannot \n",
    "                    #identify where data belongs\n",
    "df_CTA = df_CTA[(df_CTA['districte'].notna()) & (df_CTA['districte'] != '>')]\n",
    "df_CTA['districte'] = df_CTA['districte'].replace('06', '6')\n",
    "df_CTA['districte'] = df_CTA['districte'].replace('03', '3')\n"
   ]
  },
  {
   "cell_type": "code",
   "execution_count": 50,
   "id": "bf5bcace",
   "metadata": {},
   "outputs": [
    {
     "data": {
      "text/html": [
       "<div>\n",
       "<style scoped>\n",
       "    .dataframe tbody tr th:only-of-type {\n",
       "        vertical-align: middle;\n",
       "    }\n",
       "\n",
       "    .dataframe tbody tr th {\n",
       "        vertical-align: top;\n",
       "    }\n",
       "\n",
       "    .dataframe thead th {\n",
       "        text-align: right;\n",
       "    }\n",
       "</style>\n",
       "<table border=\"1\" class=\"dataframe\">\n",
       "  <thead>\n",
       "    <tr style=\"text-align: right;\">\n",
       "      <th></th>\n",
       "      <th>poliza_suministro</th>\n",
       "      <th>numeroseriecontador</th>\n",
       "      <th>consumo_real</th>\n",
       "      <th>fecha_hora</th>\n",
       "      <th>codi_anomalia</th>\n",
       "      <th>data_inici</th>\n",
       "      <th>data_fi</th>\n",
       "    </tr>\n",
       "  </thead>\n",
       "  <tbody>\n",
       "    <tr>\n",
       "      <th>0</th>\n",
       "      <td>JSM5YS4KVQUI5DQA</td>\n",
       "      <td>RMQO6U3MP5TS4QUL</td>\n",
       "      <td>0.0</td>\n",
       "      <td>2024-06-17 00:00:00</td>\n",
       "      <td>163840</td>\n",
       "      <td>2024-07-15</td>\n",
       "      <td>2024-09-13</td>\n",
       "    </tr>\n",
       "    <tr>\n",
       "      <th>1</th>\n",
       "      <td>JSM5YS4KVQUI5DQA</td>\n",
       "      <td>RMQO6U3MP5TS4QUL</td>\n",
       "      <td>21.0</td>\n",
       "      <td>2024-06-17 00:56:13</td>\n",
       "      <td>163840</td>\n",
       "      <td>2024-07-15</td>\n",
       "      <td>2024-09-13</td>\n",
       "    </tr>\n",
       "    <tr>\n",
       "      <th>2</th>\n",
       "      <td>JSM5YS4KVQUI5DQA</td>\n",
       "      <td>RMQO6U3MP5TS4QUL</td>\n",
       "      <td>7.0</td>\n",
       "      <td>2024-06-17 01:56:13</td>\n",
       "      <td>163840</td>\n",
       "      <td>2024-07-15</td>\n",
       "      <td>2024-09-13</td>\n",
       "    </tr>\n",
       "    <tr>\n",
       "      <th>3</th>\n",
       "      <td>JSM5YS4KVQUI5DQA</td>\n",
       "      <td>RMQO6U3MP5TS4QUL</td>\n",
       "      <td>0.0</td>\n",
       "      <td>2024-06-17 02:56:13</td>\n",
       "      <td>163840</td>\n",
       "      <td>2024-07-15</td>\n",
       "      <td>2024-09-13</td>\n",
       "    </tr>\n",
       "    <tr>\n",
       "      <th>4</th>\n",
       "      <td>JSM5YS4KVQUI5DQA</td>\n",
       "      <td>RMQO6U3MP5TS4QUL</td>\n",
       "      <td>0.0</td>\n",
       "      <td>2024-06-17 03:56:13</td>\n",
       "      <td>163840</td>\n",
       "      <td>2024-07-15</td>\n",
       "      <td>2024-09-13</td>\n",
       "    </tr>\n",
       "  </tbody>\n",
       "</table>\n",
       "</div>"
      ],
      "text/plain": [
       "  poliza_suministro numeroseriecontador  consumo_real          fecha_hora  \\\n",
       "0  JSM5YS4KVQUI5DQA    RMQO6U3MP5TS4QUL           0.0 2024-06-17 00:00:00   \n",
       "1  JSM5YS4KVQUI5DQA    RMQO6U3MP5TS4QUL          21.0 2024-06-17 00:56:13   \n",
       "2  JSM5YS4KVQUI5DQA    RMQO6U3MP5TS4QUL           7.0 2024-06-17 01:56:13   \n",
       "3  JSM5YS4KVQUI5DQA    RMQO6U3MP5TS4QUL           0.0 2024-06-17 02:56:13   \n",
       "4  JSM5YS4KVQUI5DQA    RMQO6U3MP5TS4QUL           0.0 2024-06-17 03:56:13   \n",
       "\n",
       "   codi_anomalia  data_inici     data_fi  \n",
       "0         163840  2024-07-15  2024-09-13  \n",
       "1         163840  2024-07-15  2024-09-13  \n",
       "2         163840  2024-07-15  2024-09-13  \n",
       "3         163840  2024-07-15  2024-09-13  \n",
       "4         163840  2024-07-15  2024-09-13  "
      ]
     },
     "metadata": {},
     "output_type": "display_data"
    },
    {
     "data": {
      "text/html": [
       "<div>\n",
       "<style scoped>\n",
       "    .dataframe tbody tr th:only-of-type {\n",
       "        vertical-align: middle;\n",
       "    }\n",
       "\n",
       "    .dataframe tbody tr th {\n",
       "        vertical-align: top;\n",
       "    }\n",
       "\n",
       "    .dataframe thead th {\n",
       "        text-align: right;\n",
       "    }\n",
       "</style>\n",
       "<table border=\"1\" class=\"dataframe\">\n",
       "  <thead>\n",
       "    <tr style=\"text-align: right;\">\n",
       "      <th></th>\n",
       "      <th>secció censal</th>\n",
       "      <th>districte</th>\n",
       "      <th>municipi</th>\n",
       "      <th>data</th>\n",
       "      <th>ús</th>\n",
       "      <th>nombre de comptadors</th>\n",
       "      <th>consum acumulat (l</th>\n",
       "    </tr>\n",
       "  </thead>\n",
       "  <tbody>\n",
       "    <tr>\n",
       "      <th>0</th>\n",
       "      <td>801901001</td>\n",
       "      <td>1</td>\n",
       "      <td>BARCELONA</td>\n",
       "      <td>2023-01-01</td>\n",
       "      <td>Comercial/Comercial/Commercial</td>\n",
       "      <td>64</td>\n",
       "      <td>14258</td>\n",
       "    </tr>\n",
       "    <tr>\n",
       "      <th>1</th>\n",
       "      <td>801901001</td>\n",
       "      <td>1</td>\n",
       "      <td>BARCELONA</td>\n",
       "      <td>2023-01-01</td>\n",
       "      <td>Domèstic/Doméstico/Domestic</td>\n",
       "      <td>395</td>\n",
       "      <td>11089</td>\n",
       "    </tr>\n",
       "    <tr>\n",
       "      <th>2</th>\n",
       "      <td>801901001</td>\n",
       "      <td>1</td>\n",
       "      <td>BARCELONA</td>\n",
       "      <td>2023-01-01</td>\n",
       "      <td>Industrial/Industrial/Industrial</td>\n",
       "      <td>20</td>\n",
       "      <td>490360</td>\n",
       "    </tr>\n",
       "    <tr>\n",
       "      <th>3</th>\n",
       "      <td>801901001</td>\n",
       "      <td>1</td>\n",
       "      <td>BARCELONA</td>\n",
       "      <td>2023-01-02</td>\n",
       "      <td>Comercial/Comercial/Commercial</td>\n",
       "      <td>64</td>\n",
       "      <td>6780</td>\n",
       "    </tr>\n",
       "    <tr>\n",
       "      <th>4</th>\n",
       "      <td>801901001</td>\n",
       "      <td>1</td>\n",
       "      <td>BARCELONA</td>\n",
       "      <td>2023-01-02</td>\n",
       "      <td>Domèstic/Doméstico/Domestic</td>\n",
       "      <td>395</td>\n",
       "      <td>11571</td>\n",
       "    </tr>\n",
       "  </tbody>\n",
       "</table>\n",
       "</div>"
      ],
      "text/plain": [
       "  secció censal districte   municipi        data  \\\n",
       "0     801901001         1  BARCELONA  2023-01-01   \n",
       "1     801901001         1  BARCELONA  2023-01-01   \n",
       "2     801901001         1  BARCELONA  2023-01-01   \n",
       "3     801901001         1  BARCELONA  2023-01-02   \n",
       "4     801901001         1  BARCELONA  2023-01-02   \n",
       "\n",
       "                                 ús  nombre de comptadors  consum acumulat (l  \n",
       "0    Comercial/Comercial/Commercial                    64               14258  \n",
       "1       Domèstic/Doméstico/Domestic                   395               11089  \n",
       "2  Industrial/Industrial/Industrial                    20              490360  \n",
       "3    Comercial/Comercial/Commercial                    64                6780  \n",
       "4       Domèstic/Doméstico/Domestic                   395               11571  "
      ]
     },
     "metadata": {},
     "output_type": "display_data"
    }
   ],
   "source": [
    "display(df_DCA.head(5))\n",
    "display(df_CTA.head(5))\n"
   ]
  }
 ],
 "metadata": {
  "kernelspec": {
   "display_name": "base",
   "language": "python",
   "name": "python3"
  },
  "language_info": {
   "codemirror_mode": {
    "name": "ipython",
    "version": 3
   },
   "file_extension": ".py",
   "mimetype": "text/x-python",
   "name": "python",
   "nbconvert_exporter": "python",
   "pygments_lexer": "ipython3",
   "version": "3.11.7"
  }
 },
 "nbformat": 4,
 "nbformat_minor": 5
}
