{
 "cells": [
  {
   "cell_type": "code",
   "execution_count": 1,
   "id": "8d50a74c",
   "metadata": {},
   "outputs": [],
   "source": [
    "import sys\n",
    "import os\n",
    "import pandas as pd\n",
    "from pathlib import Path\n",
    "\n",
    "# Add project root to path to allow imports from src\n",
    "module_path = os.path.abspath(os.path.join('..'))\n",
    "if module_path not in sys.path:\n",
    "    sys.path.append(module_path)\n",
    "    \n",
    "from src.data_preprocessing import load_parquet_to_df"
   ]
  },
  {
   "cell_type": "markdown",
   "id": "e04385ed",
   "metadata": {},
   "source": [
    "## Obtaining the Dataframes ##"
   ]
  },
  {
   "cell_type": "markdown",
   "id": "8c5d5ac8",
   "metadata": {},
   "source": [
    "The dataframes used are: \n",
    "- Consum Total Agregat (CTA)\n",
    "- Repte Consums Anòmals (RCA)\n",
    "- Fuistes Experència Client (FEC)\n",
    "- Incidències Comptadors Intelligents (ICI)"
   ]
  },
  {
   "cell_type": "code",
   "execution_count": null,
   "id": "5862d19b",
   "metadata": {},
   "outputs": [
    {
     "name": "stdout",
     "output_type": "stream",
     "text": [
      "['POLIZA_SUMINISTRO', 'FECHA', 'CONSUMO_REAL', 'SECCIO_CENSAL', 'US_AIGUA_GEST', 'NUM_MUN_SGAB', 'NUM_DTE_MUNI', 'NUM_COMPLET', 'DATA_INST_COMP', 'MARCA_COMP', 'CODI_MODEL', 'DIAM_COMP']\n",
      "['POLISSA_SUBM', 'CODI_ANOMALIA', 'START_DATE', 'END_DATE', 'US_AIGUA_SUBM', 'SECCIO_CENSAL', 'NUMEROSERIECONTADOR', 'CONSUMO_REAL', 'FECHA_HORA']\n"
     ]
    }
   ],
   "source": [
    "# Define the path to your raw data file\n",
    "file_names = [\"consum_total_agregat.parquet\", \"repte_consums_anomals.parquet\", \"fuites_experiencia_client.parquet\",\"incidencies_comptadors_intelligents.parquet\"]\n",
    "files = [\"../data/\" + file for file in file_names]\n",
    "sample_files = [\"../data/sample_\" + file for file in file_names]\n",
    "\n",
    "# Run just with samples until being sure for time optimization \n",
    "df_CTA = load_parquet_to_df(files[0])\n",
    "df_RCA = load_parquet_to_df(files[1])\n",
    "df_FEC = load_parquet_to_df(files[2])\n",
    "df_ICI = load_parquet_to_df(files[3])\n",
    "\n",
    "df_list = [df_CTA,df_RCA, df_FEC, df_ICI]"
   ]
  },
  {
   "cell_type": "code",
   "execution_count": 3,
   "id": "5d52a82c",
   "metadata": {},
   "outputs": [
    {
     "data": {
      "text/plain": [
       "'\"\\ndata_dir = \"../data/\"\\nfor file_name in file_names:\\n    full_path = os.path.join(data_dir, file_name)\\n    sample_path = os.path.join(data_dir, f\"sample_{file_name}\")\\n    \\n    # Load full dataset\\n    df = pd.read_parquet(full_path)\\n    \\n    # Compute 10% of the data (at least 1 row)\\n    sample_size = max(1, int(len(df) * 0.1))\\n    df_sample = df.iloc[:sample_size]\\n    \\n    # Save sample parquet\\n    df_sample.to_parquet(sample_path, index=False)\\n    \\n    print(f\"Sample saved: {sample_path} ({sample_size} rows)\")\\n'"
      ]
     },
     "execution_count": 3,
     "metadata": {},
     "output_type": "execute_result"
    }
   ],
   "source": [
    "\"\"\"\"\n",
    "data_dir = \"../data/\"\n",
    "for file_name in file_names:\n",
    "    full_path = os.path.join(data_dir, file_name)\n",
    "    sample_path = os.path.join(data_dir, f\"sample_{file_name}\")\n",
    "    \n",
    "    # Load full dataset\n",
    "    df = pd.read_parquet(full_path)\n",
    "    \n",
    "    # Compute 10% of the data (at least 1 row)\n",
    "    sample_size = max(1, int(len(df) * 0.1))\n",
    "    df_sample = df.iloc[:sample_size]\n",
    "    \n",
    "    # Save sample parquet\n",
    "    df_sample.to_parquet(sample_path, index=False)\n",
    "    \n",
    "    print(f\"Sample saved: {sample_path} ({sample_size} rows)\")\n",
    "\"\"\""
   ]
  },
  {
   "cell_type": "markdown",
   "id": "46eefc41",
   "metadata": {},
   "source": [
    "# Cleaning Dataframes"
   ]
  },
  {
   "cell_type": "markdown",
   "id": "eeeb08d1",
   "metadata": {},
   "source": [
    "### Cleaning Consum Total Agregat (CTA)"
   ]
  },
  {
   "cell_type": "code",
   "execution_count": 24,
   "id": "374ac598",
   "metadata": {},
   "outputs": [
    {
     "name": "stdout",
     "output_type": "stream",
     "text": [
      "---------- consum_total_agregat.parquet ----------\n",
      "<class 'pandas.core.frame.DataFrame'>\n",
      "RangeIndex: 1711270 entries, 0 to 1711269\n",
      "Data columns (total 12 columns):\n",
      " #   Column             Non-Null Count    Dtype  \n",
      "---  ------             --------------    -----  \n",
      " 0   POLIZA_SUMINISTRO  1711270 non-null  object \n",
      " 1   FECHA              1711270 non-null  object \n",
      " 2   CONSUMO_REAL       1711270 non-null  int64  \n",
      " 3   SECCIO_CENSAL      1711270 non-null  float64\n",
      " 4   US_AIGUA_GEST      1711270 non-null  object \n",
      " 5   NUM_MUN_SGAB       1711270 non-null  float64\n",
      " 6   NUM_DTE_MUNI       1711270 non-null  float64\n",
      " 7   NUM_COMPLET        1711270 non-null  object \n",
      " 8   DATA_INST_COMP     1711270 non-null  object \n",
      " 9   MARCA_COMP         1711270 non-null  object \n",
      " 10  CODI_MODEL         1711270 non-null  float64\n",
      " 11  DIAM_COMP          1711270 non-null  float64\n",
      "dtypes: float64(5), int64(1), object(6)\n",
      "memory usage: 156.7+ MB\n"
     ]
    }
   ],
   "source": [
    "#Show stats \n",
    "print(\"-\"*10, file_names[0], \"-\" *10)\n",
    "df_CTA.info(show_counts=True)"
   ]
  },
  {
   "cell_type": "markdown",
   "id": "f22961d9",
   "metadata": {},
   "source": [
    "### Cleaning Repte Consums Anòmals (RCA)"
   ]
  },
  {
   "cell_type": "code",
   "execution_count": 26,
   "id": "de8f242f",
   "metadata": {},
   "outputs": [
    {
     "name": "stdout",
     "output_type": "stream",
     "text": [
      "---------- repte_consums_anomals.parquet ----------\n",
      "<class 'pandas.core.frame.DataFrame'>\n",
      "RangeIndex: 2119597 entries, 0 to 2119596\n",
      "Data columns (total 9 columns):\n",
      " #   Column               Non-Null Count    Dtype         \n",
      "---  ------               --------------    -----         \n",
      " 0   POLISSA_SUBM         2119597 non-null  object        \n",
      " 1   CODI_ANOMALIA        2119597 non-null  int64         \n",
      " 2   START_DATE           2119597 non-null  datetime64[ns]\n",
      " 3   END_DATE             2119597 non-null  datetime64[ns]\n",
      " 4   US_AIGUA_SUBM        2119597 non-null  object        \n",
      " 5   SECCIO_CENSAL        2119597 non-null  object        \n",
      " 6   NUMEROSERIECONTADOR  2119597 non-null  object        \n",
      " 7   CONSUMO_REAL         2119597 non-null  float64       \n",
      " 8   FECHA_HORA           2119597 non-null  datetime64[us]\n",
      "dtypes: datetime64[ns](2), datetime64[us](1), float64(1), int64(1), object(4)\n",
      "memory usage: 145.5+ MB\n"
     ]
    }
   ],
   "source": [
    "#Detecció de consums anòmals dataframe cleaned \n",
    "print(\"-\"*10, file_names[1], \"-\" *10)\n",
    "df_RCA.info(show_counts=True)"
   ]
  },
  {
   "cell_type": "markdown",
   "id": "fbba49a2",
   "metadata": {},
   "source": [
    "### Cleaning Fuistes Experència Client (FEC)\n"
   ]
  },
  {
   "cell_type": "code",
   "execution_count": null,
   "id": "b844d0e2",
   "metadata": {},
   "outputs": [
    {
     "name": "stdout",
     "output_type": "stream",
     "text": [
      "---------- fuites_experiencia_client.parquet ----------\n",
      "<class 'pandas.core.frame.DataFrame'>\n",
      "RangeIndex: 7637224 entries, 0 to 7637223\n",
      "Data columns (total 11 columns):\n",
      " #   Column               Non-Null Count    Dtype         \n",
      "---  ------               --------------    -----         \n",
      " 0   POLISSA_SUBM         7637224 non-null  object        \n",
      " 1   DATA_INI_FACT        7637224 non-null  object        \n",
      " 2   DATA_FIN_FACT        7637224 non-null  object        \n",
      " 3   CREATED_MENSAJE      5620178 non-null  datetime64[us]\n",
      " 4   CODIGO_MENSAJE       5620178 non-null  object        \n",
      " 5   TIPO_MENSAJE         5620178 non-null  object        \n",
      " 6   US_AIGUA_SUBM        7637224 non-null  object        \n",
      " 7   SECCIO_CENSAL        7420659 non-null  object        \n",
      " 8   NUMEROSERIECONTADOR  7637224 non-null  object        \n",
      " 9   CONSUMO_REAL         6156763 non-null  float64       \n",
      " 10  FECHA_HORA           7637224 non-null  datetime64[us]\n",
      "dtypes: datetime64[us](2), float64(1), object(8)\n",
      "memory usage: 640.9+ MB\n"
     ]
    }
   ],
   "source": [
    "print(\"-\"*10, file_names[2], \"-\" *10)\n",
    "df_FEC.info(show_counts=True)"
   ]
  },
  {
   "cell_type": "markdown",
   "id": "f34843ce",
   "metadata": {},
   "source": [
    "### Cleaning Incidències Comptadors Intelligents (ICI)"
   ]
  },
  {
   "cell_type": "code",
   "execution_count": 28,
   "id": "a7208d49",
   "metadata": {},
   "outputs": [
    {
     "name": "stdout",
     "output_type": "stream",
     "text": [
      "---------- fuites_experiencia_client.parquet ----------\n",
      "<class 'pandas.core.frame.DataFrame'>\n",
      "RangeIndex: 1711270 entries, 0 to 1711269\n",
      "Data columns (total 12 columns):\n",
      " #   Column             Non-Null Count    Dtype  \n",
      "---  ------             --------------    -----  \n",
      " 0   POLIZA_SUMINISTRO  1711270 non-null  object \n",
      " 1   FECHA              1711270 non-null  object \n",
      " 2   CONSUMO_REAL       1711270 non-null  int64  \n",
      " 3   SECCIO_CENSAL      1711270 non-null  float64\n",
      " 4   US_AIGUA_GEST      1711270 non-null  object \n",
      " 5   NUM_MUN_SGAB       1711270 non-null  float64\n",
      " 6   NUM_DTE_MUNI       1711270 non-null  float64\n",
      " 7   NUM_COMPLET        1711270 non-null  object \n",
      " 8   DATA_INST_COMP     1711270 non-null  object \n",
      " 9   MARCA_COMP         1711270 non-null  object \n",
      " 10  CODI_MODEL         1711270 non-null  float64\n",
      " 11  DIAM_COMP          1711270 non-null  float64\n",
      "dtypes: float64(5), int64(1), object(6)\n",
      "memory usage: 156.7+ MB\n"
     ]
    }
   ],
   "source": [
    "print(\"-\"*10, file_names[2], \"-\" *10)\n",
    "df_ICI.info(show_counts=True)"
   ]
  }
 ],
 "metadata": {
  "kernelspec": {
   "display_name": "base",
   "language": "python",
   "name": "python3"
  },
  "language_info": {
   "codemirror_mode": {
    "name": "ipython",
    "version": 3
   },
   "file_extension": ".py",
   "mimetype": "text/x-python",
   "name": "python",
   "nbconvert_exporter": "python",
   "pygments_lexer": "ipython3",
   "version": "3.11.7"
  }
 },
 "nbformat": 4,
 "nbformat_minor": 5
}
